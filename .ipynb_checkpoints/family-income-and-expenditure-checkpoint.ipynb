{
 "cells": [
  {
   "cell_type": "markdown",
   "metadata": {},
   "source": [
    "## Exploring the Filipino Family Income and Expenditure Dataset [WIP]\n",
    "- Kaggle Competition and dataset details: https://www.kaggle.com/grosvenpaul/family-income-and-expenditure\n",
    "- Resources used: https://www.kaggle.com/pmarcelino/comprehensive-data-exploration-with-python\n",
    "\n",
    "<i>Please let me know if there are any errors or if anything can be further improved upon. </i>"
   ]
  },
  {
   "cell_type": "markdown",
   "metadata": {},
   "source": [
    "The outline for this kernel is as follows:\n",
    "1. <b>Exploratory Data Analysis and Data Visualization</b> - Plot different variables against each other and digging into some interesting correlations. \n",
    "2. <b>Data Pre-processing</b> - Missing values are handled; data is standardized/ normalized \n",
    "3. <b>Prediction of Household Income</b> - machine learning techniques are applied to the dataset to either (1) classify new instances as either low, middle, or high income (classification); or (2) predict the household income (regression)"
   ]
  },
  {
   "cell_type": "code",
   "execution_count": null,
   "metadata": {
    "collapsed": false
   },
   "outputs": [],
   "source": [
    "import matplotlib.pyplot as plt\n",
    "import seaborn as sns\n",
    "import pandas as pd\n",
    "import numpy as np"
   ]
  },
  {
   "cell_type": "code",
   "execution_count": null,
   "metadata": {
    "collapsed": false
   },
   "outputs": [],
   "source": [
    "from sklearn import preprocessing\n",
    "from sklearn import decomposition\n",
    "from sklearn.model_selection import train_test_split\n",
    "from sklearn import metrics\n",
    "from sklearn.tree import DecisionTreeClassifier\n",
    "from sklearn.naive_bayes import GaussianNB\n",
    "from sklearn.neural_network import MLPClassifier\n",
    "from sklearn.svm import SVC\n",
    "from sklearn.svm import LinearSVC\n",
    "from sklearn.linear_model import SGDClassifier\n",
    "from sklearn.linear_model import Perceptron\n",
    "from sklearn.naive_bayes import BernoulliNB, MultinomialNB\n",
    "from sklearn.neighbors import KNeighborsClassifier\n",
    "from sklearn.ensemble import RandomForestClassifier\n",
    "from sklearn.model_selection import cross_val_score"
   ]
  },
  {
   "cell_type": "code",
   "execution_count": null,
   "metadata": {
    "collapsed": false
   },
   "outputs": [],
   "source": [
    "#df = pd.read_csv(\"../input/Family Income and Expenditure.csv\")\n",
    "df = pd.read_csv(\"Family-Income-and-Expenditure.csv\")"
   ]
  },
  {
   "cell_type": "code",
   "execution_count": null,
   "metadata": {
    "collapsed": false
   },
   "outputs": [],
   "source": [
    "df.head()"
   ]
  },
  {
   "cell_type": "code",
   "execution_count": null,
   "metadata": {
    "collapsed": false,
    "scrolled": false
   },
   "outputs": [],
   "source": [
    "df.info()"
   ]
  },
  {
   "cell_type": "markdown",
   "metadata": {},
   "source": [
    "## Inspecting the Variables\n",
    "If we want to better understand our data, we first need to understand the meaning and relevance of the variables. Remember that the target variable we are trying to predict is `Total Household Income`. Thus, for each variable, we ask ourselves:\n",
    "- Do we consider this variable when attempting to predict household income? \n",
    "- If so, how relevant is this variable in determining our target variable?\n",
    "\n",
    "We can roughly group the different variables based on the information they provide:\n",
    "- <b>Expenditures</b> - describes the amount of spending allocated to a certain commodity \n",
    "- <b>Household Head</b> - age, sex, marital status, education of the household breadwinner\n",
    "- <b>Household Family Members</b>- type of family, number, age, and employment status of family members\n",
    "- <b>Type of House</b> - describes the physical structure of the house\n",
    "- <b>Number of Commodities Owned</b> - e.g. fridges, washing machines, television"
   ]
  },
  {
   "cell_type": "markdown",
   "metadata": {},
   "source": [
    "First, we'll create a separate dataframe for expenditures alone. "
   ]
  },
  {
   "cell_type": "code",
   "execution_count": null,
   "metadata": {
    "collapsed": false
   },
   "outputs": [],
   "source": [
    "exp = df[[c for c in df.columns if ('Expenditure' in c) or ('expenses' in c)]]\n",
    "exp.describe()"
   ]
  },
  {
   "cell_type": "code",
   "execution_count": null,
   "metadata": {
    "collapsed": false
   },
   "outputs": [],
   "source": [
    "df = df[[c for c in df.columns if ('Expenditure' not in c) and ('expenses' not in c)]]\n",
    "df.describe()"
   ]
  },
  {
   "cell_type": "code",
   "execution_count": null,
   "metadata": {
    "collapsed": false
   },
   "outputs": [],
   "source": [
    "df.describe(include=['O'])"
   ]
  },
  {
   "cell_type": "markdown",
   "metadata": {},
   "source": [
    "### Total Household Income\n",
    "Let's start by taking a closer look at our target variable."
   ]
  },
  {
   "cell_type": "code",
   "execution_count": null,
   "metadata": {
    "collapsed": false
   },
   "outputs": [],
   "source": [
    "target = 'Total Household Income'\n",
    "df[target].describe()"
   ]
  },
  {
   "cell_type": "markdown",
   "metadata": {},
   "source": [
    "Observations:\n",
    "- The average household income is P247,555.60 per year. That's an average of P20,629.63 per month. \n",
    "- The median income is at P164,079.50 per year or P13,673.29 per month.\n",
    "- The highest income is P11,815,990.00 per year or P984,665.00 per month.\n",
    "- The lowest being P11,285.00 per year or P940 per month."
   ]
  },
  {
   "cell_type": "code",
   "execution_count": null,
   "metadata": {
    "collapsed": false
   },
   "outputs": [],
   "source": [
    "f, ax = plt.subplots(figsize=(7, 5))\n",
    "sns.distplot(df[target])\n",
    "plt.show()"
   ]
  },
  {
   "cell_type": "code",
   "execution_count": null,
   "metadata": {
    "collapsed": false
   },
   "outputs": [],
   "source": [
    "print(\"Skewness:\", df[target].skew())"
   ]
  },
  {
   "cell_type": "markdown",
   "metadata": {},
   "source": [
    "Taking a look at the distribution, we see that the total household income:\n",
    "- deviates from the normal distribution\n",
    "- has a positive skewness\n",
    "\n",
    "Let's have a look at the correlation between variables."
   ]
  },
  {
   "cell_type": "code",
   "execution_count": null,
   "metadata": {
    "collapsed": false
   },
   "outputs": [],
   "source": [
    "k = 7\n",
    "corrmat = df.corr()\n",
    "cols = corrmat.nlargest(k, target)[target].index\n",
    "f, ax = plt.subplots(figsize=(5, 5))\n",
    "cm = np.corrcoef(df[cols].values.T)\n",
    "sns.set(font_scale=1.25)\n",
    "hm = sns.heatmap(cm, cbar=True, annot=True, square=True, fmt='.2f', annot_kws={'size': 10}, yticklabels=cols.values, xticklabels=cols.values)\n",
    "plt.show()"
   ]
  },
  {
   "cell_type": "markdown",
   "metadata": {},
   "source": [
    "### Numerical Variables"
   ]
  },
  {
   "cell_type": "code",
   "execution_count": null,
   "metadata": {
    "collapsed": false
   },
   "outputs": [],
   "source": [
    "var = 'Household Head Age'\n",
    "sns.distplot(df[var])\n",
    "plt.show()"
   ]
  },
  {
   "cell_type": "code",
   "execution_count": null,
   "metadata": {
    "collapsed": false
   },
   "outputs": [],
   "source": [
    "sns.jointplot(x=var, y=target, data=df);\n",
    "plt.show()"
   ]
  },
  {
   "cell_type": "markdown",
   "metadata": {},
   "source": [
    "<i>Families with household heads in their 50's seem to have the highest household income.</i>"
   ]
  },
  {
   "cell_type": "code",
   "execution_count": null,
   "metadata": {
    "collapsed": false
   },
   "outputs": [],
   "source": [
    "var = 'Total Number of Family members'\n",
    "sns.distplot(df[var], kde=False)\n",
    "plt.show()"
   ]
  },
  {
   "cell_type": "code",
   "execution_count": null,
   "metadata": {
    "collapsed": false
   },
   "outputs": [],
   "source": [
    "sns.jointplot(x=var, y=target, data=df);\n",
    "plt.show()"
   ]
  },
  {
   "cell_type": "markdown",
   "metadata": {},
   "source": [
    "<i>Families with more members living in the household (10 and above) tend to have lower household income. </i>"
   ]
  },
  {
   "cell_type": "code",
   "execution_count": null,
   "metadata": {
    "collapsed": false
   },
   "outputs": [],
   "source": [
    "var = 'Total number of family members employed'\n",
    "sns.distplot(df[var], kde=False)\n",
    "plt.show()"
   ]
  },
  {
   "cell_type": "code",
   "execution_count": null,
   "metadata": {
    "collapsed": false
   },
   "outputs": [],
   "source": [
    "sns.jointplot(x=var, y=target, data=df)\n",
    "plt.show()"
   ]
  },
  {
   "cell_type": "markdown",
   "metadata": {},
   "source": [
    "<i>Interesting... the more family members that are employed, the less the Total Household Income? Seems pretty counterinutitive.</i> "
   ]
  },
  {
   "cell_type": "code",
   "execution_count": null,
   "metadata": {
    "collapsed": false
   },
   "outputs": [],
   "source": [
    "var = 'Members with age less than 5 year old'\n",
    "sns.distplot(df[var], kde=False)\n",
    "plt.show()"
   ]
  },
  {
   "cell_type": "code",
   "execution_count": null,
   "metadata": {
    "collapsed": false
   },
   "outputs": [],
   "source": [
    "sns.jointplot(x=var, y=target, data=df)\n",
    "plt.show()"
   ]
  },
  {
   "cell_type": "code",
   "execution_count": null,
   "metadata": {
    "collapsed": false
   },
   "outputs": [],
   "source": [
    "var = 'Members with age 5 - 17 years old'\n",
    "sns.distplot(df[var], kde=False)\n",
    "plt.show()"
   ]
  },
  {
   "cell_type": "code",
   "execution_count": null,
   "metadata": {
    "collapsed": false
   },
   "outputs": [],
   "source": [
    "sns.jointplot(x=var, y=target, data=df)\n",
    "plt.show()"
   ]
  },
  {
   "cell_type": "markdown",
   "metadata": {},
   "source": [
    "<i>Families with more children tend to have lower total household income.</i>"
   ]
  },
  {
   "cell_type": "markdown",
   "metadata": {},
   "source": [
    "### Categorical Variables\n",
    "We now take a look at the strip plots of different variables plotted against Total Household Income. "
   ]
  },
  {
   "cell_type": "code",
   "execution_count": null,
   "metadata": {
    "collapsed": false
   },
   "outputs": [],
   "source": [
    "var = 'Region' \n",
    "s = sns.barplot(x=var, y=target, data=df)\n",
    "s.set_xticklabels(s.get_xticklabels(), rotation=90)\n",
    "plt.show()"
   ]
  },
  {
   "cell_type": "markdown",
   "metadata": {},
   "source": [
    "<i>Families residing in NCR (Metro Manila) enjoy an overall greater total household income. The runner up is CALABARZON, which is about an hour or two from Metro Manila. </i>"
   ]
  },
  {
   "cell_type": "code",
   "execution_count": null,
   "metadata": {
    "collapsed": false
   },
   "outputs": [],
   "source": [
    "sex = 'Household Head Sex' \n",
    "sns.countplot(x=sex, data=df)\n",
    "plt.show()"
   ]
  },
  {
   "cell_type": "code",
   "execution_count": null,
   "metadata": {
    "collapsed": false
   },
   "outputs": [],
   "source": [
    "sex = 'Household Head Sex' \n",
    "sns.barplot(x=sex, y=target, data=df)\n",
    "plt.show()"
   ]
  },
  {
   "cell_type": "markdown",
   "metadata": {},
   "source": [
    "<i>While there are more male household heads, female heads generally have a higher mean household income.</i>"
   ]
  },
  {
   "cell_type": "code",
   "execution_count": null,
   "metadata": {
    "collapsed": false
   },
   "outputs": [],
   "source": [
    "var = 'Main Source of Income'\n",
    "sns.barplot(x=var, y=target, data=df)\n",
    "plt.show()"
   ]
  },
  {
   "cell_type": "code",
   "execution_count": null,
   "metadata": {
    "collapsed": false
   },
   "outputs": [],
   "source": [
    "var = 'Household Head Marital Status'\n",
    "sns.countplot(x=var, hue=sex, data=df)\n",
    "plt.show()"
   ]
  },
  {
   "cell_type": "code",
   "execution_count": null,
   "metadata": {
    "collapsed": false
   },
   "outputs": [],
   "source": [
    "var = 'Household Head Highest Grade Completed'\n",
    "df[var] = df[var].replace('Other Programs of Education at the Third Level, First Stage, of the Type that Leads to a Baccalaureate or First University/Professional Degree (HIgher Education Level, First Stage, or Collegiate Education Level)', 'Programs of Education at the Third Level');\n",
    "df[var] = df[var].replace('Other Programs in Education at the Third Level, First Stage, of the Type that Leads to an Award not Equivalent to a First University or Baccalaureate Degree', 'Third Level that Leads to Non-Baccalureate Award')"
   ]
  },
  {
   "cell_type": "code",
   "execution_count": null,
   "metadata": {
    "collapsed": false
   },
   "outputs": [],
   "source": [
    "df[var].astype('category').cat.categories;"
   ]
  },
  {
   "cell_type": "code",
   "execution_count": null,
   "metadata": {
    "collapsed": false
   },
   "outputs": [],
   "source": [
    "var = 'Household Head Occupation' \n",
    "df[var].astype('category').cat.categories\n",
    "a = df[var].astype('category').cat.categories\n",
    "b = {i:df[var].value_counts()[i] for i in a}\n",
    "b = sorted(b.items(), key=lambda kv: kv[1], reverse=True)\n",
    "a = [i[0] for i in b[:50]]\n",
    "c = [i[1] for i in b[:50]]"
   ]
  },
  {
   "cell_type": "code",
   "execution_count": null,
   "metadata": {
    "collapsed": false
   },
   "outputs": [],
   "source": [
    "f, ax = plt.subplots(figsize=(20, 10))\n",
    "s = sns.barplot(x=a, y=c)\n",
    "s.set_xticklabels(s.get_xticklabels(), rotation=90)\n",
    "s.set(xlabel=var, ylabel='Count')\n",
    "plt.show()"
   ]
  },
  {
   "cell_type": "code",
   "execution_count": null,
   "metadata": {
    "collapsed": false
   },
   "outputs": [],
   "source": [
    "var = 'Household Head Occupation' \n",
    "df[var].astype('category').cat.categories\n",
    "a = df[var].astype('category').cat.categories\n",
    "b = {i:df[var].value_counts()[i] for i in a}\n",
    "b = sorted(b.items(), key=lambda kv: kv[1], reverse=True)\n",
    "a = [i[0] for i in b[:50]]\n",
    "c = [df[df[var]==i[0]][target].mean() for i in b[:50]]\n",
    "f, ax = plt.subplots(figsize=(20, 10))\n",
    "s = sns.barplot(x=a, y=c)\n",
    "s.set_xticklabels(s.get_xticklabels(), rotation=90)\n",
    "s.set(xlabel=var, ylabel='Mean (Total Household Income)')\n",
    "plt.show()"
   ]
  },
  {
   "cell_type": "code",
   "execution_count": null,
   "metadata": {
    "collapsed": false
   },
   "outputs": [],
   "source": [
    "var = 'Household Head Occupation' \n",
    "df[var].astype('category').cat.categories\n",
    "a = df[var].astype('category').cat.categories\n",
    "b = {i:df[df[var]==i][target].mean() for i in a}\n",
    "b = sorted(b.items(), key=lambda kv: kv[1], reverse=True)\n",
    "d = [i for i in b[:25]]\n",
    "for i in b[-25:]: d.append(i)\n",
    "a = [i[0] for i in d]\n",
    "c = [i[1] for i in d]\n",
    "f, ax = plt.subplots(figsize=(20, 10))\n",
    "s = sns.barplot(x=a, y=c)\n",
    "s.set_xticklabels(s.get_xticklabels(), rotation=90)\n",
    "s.set(xlabel=var, ylabel='Count')\n",
    "plt.show()"
   ]
  },
  {
   "cell_type": "code",
   "execution_count": null,
   "metadata": {
    "collapsed": false
   },
   "outputs": [],
   "source": [
    "var = 'Household Head Highest Grade Completed' \n",
    "f, ax = plt.subplots(figsize=(20, 10))\n",
    "s = sns.countplot(x=var, data=df)\n",
    "s.set_xticklabels(s.get_xticklabels(), rotation=90)\n",
    "plt.show()"
   ]
  },
  {
   "cell_type": "code",
   "execution_count": null,
   "metadata": {
    "collapsed": false
   },
   "outputs": [],
   "source": [
    "var = 'Household Head Highest Grade Completed' \n",
    "f, ax = plt.subplots(figsize=(20, 10))\n",
    "s = sns.barplot(x=var, y=target, data=df)\n",
    "s.set_xticklabels(s.get_xticklabels(), rotation=90)\n",
    "plt.show()"
   ]
  },
  {
   "cell_type": "code",
   "execution_count": null,
   "metadata": {
    "collapsed": false
   },
   "outputs": [],
   "source": [
    "var = 'Household Head Highest Grade Completed' \n",
    "f, ax = plt.subplots(figsize=(20, 10))\n",
    "s = sns.barplot(x=var, y=target, hue=sex, data=df)\n",
    "s.set_xticklabels(s.get_xticklabels(), rotation=90)\n",
    "plt.show()"
   ]
  },
  {
   "cell_type": "code",
   "execution_count": null,
   "metadata": {
    "collapsed": false
   },
   "outputs": [],
   "source": [
    "var = 'Household Head Job or Business Indicator' \n",
    "s = sns.countplot(x=var, hue=sex, data=df)\n",
    "plt.show()"
   ]
  },
  {
   "cell_type": "code",
   "execution_count": null,
   "metadata": {
    "collapsed": false
   },
   "outputs": [],
   "source": [
    "var = 'Main Source of Water Supply'\n",
    "target_ = 'Housing and water Expenditure'\n",
    "s = sns.barplot(x=df[var], y=exp[target_])\n",
    "s.set_xticklabels(s.get_xticklabels(), rotation=90)\n",
    "plt.show()"
   ]
  },
  {
   "cell_type": "markdown",
   "metadata": {},
   "source": [
    "## Missing Values"
   ]
  },
  {
   "cell_type": "code",
   "execution_count": null,
   "metadata": {
    "collapsed": false
   },
   "outputs": [],
   "source": [
    "df.isnull().sum()"
   ]
  },
  {
   "cell_type": "code",
   "execution_count": null,
   "metadata": {
    "collapsed": false
   },
   "outputs": [],
   "source": [
    "df['Household Head Occupation'] = df['Household Head Occupation'].replace(np.nan, 'Other');\n",
    "df['Household Head Occupation'] = df['Household Head Class of Worker'].replace(np.nan, 'Other');"
   ]
  },
  {
   "cell_type": "markdown",
   "metadata": {},
   "source": [
    "## Classification Task\n",
    "\n",
    "I'll start by binning the Total Household Income values into one of three categories:\n",
    "\n",
    "1. <b>Low Income</b>: Income ranges from P11,285 to P122,244.67 (P940.42 - P10,187.06 per month)\n",
    "2. <b>Middle Income</b>: Income ranges from P122,244.67 to P234,636.33 (P10187.06 - P19,553 per month)\n",
    "3. <b>High Income</b>: Income ranges from 234,636.33 to 11,815,988.00 (P19,553.02 - P984,665 per month)"
   ]
  },
  {
   "cell_type": "code",
   "execution_count": null,
   "metadata": {
    "collapsed": true
   },
   "outputs": [],
   "source": [
    "y = df[target]\n",
    "X = df[df.columns.difference([target])]"
   ]
  },
  {
   "cell_type": "code",
   "execution_count": null,
   "metadata": {
    "collapsed": false
   },
   "outputs": [],
   "source": [
    "y_ = pd.qcut(y, 3, retbins=True)\n",
    "y_"
   ]
  },
  {
   "cell_type": "code",
   "execution_count": null,
   "metadata": {
    "collapsed": false
   },
   "outputs": [],
   "source": [
    "y = pd.qcut(y, 3, labels=[\"low income\",\"middle income\", \"high income\"])\n",
    "y"
   ]
  },
  {
   "cell_type": "code",
   "execution_count": null,
   "metadata": {
    "collapsed": false
   },
   "outputs": [],
   "source": [
    "y.value_counts()"
   ]
  },
  {
   "cell_type": "markdown",
   "metadata": {},
   "source": [
    "This gives us a balanced dataset."
   ]
  },
  {
   "cell_type": "code",
   "execution_count": null,
   "metadata": {
    "collapsed": false
   },
   "outputs": [],
   "source": [
    "cols = list(X.columns[X.dtypes != object])\n",
    "std_scale = preprocessing.StandardScaler().fit(X[cols])\n",
    "X[cols] = pd.DataFrame(std_scale.transform(X[cols]), columns=cols)"
   ]
  },
  {
   "cell_type": "code",
   "execution_count": null,
   "metadata": {
    "collapsed": false
   },
   "outputs": [],
   "source": [
    "cols = list(X.columns[X.dtypes == object])\n",
    "X = pd.DataFrame(pd.get_dummies(X, prefix=cols, columns=cols))"
   ]
  },
  {
   "cell_type": "code",
   "execution_count": null,
   "metadata": {
    "collapsed": false
   },
   "outputs": [],
   "source": [
    "X.info()"
   ]
  },
  {
   "cell_type": "code",
   "execution_count": null,
   "metadata": {
    "collapsed": false,
    "scrolled": true
   },
   "outputs": [],
   "source": [
    "X.describe(include='all')"
   ]
  },
  {
   "cell_type": "code",
   "execution_count": null,
   "metadata": {
    "collapsed": false
   },
   "outputs": [],
   "source": [
    "pca = decomposition.PCA(n_components=50)\n",
    "X = pca.fit_transform(X)"
   ]
  },
  {
   "cell_type": "code",
   "execution_count": null,
   "metadata": {
    "collapsed": false
   },
   "outputs": [],
   "source": [
    "def train(X, y):\n",
    "    test_size = 0.2\n",
    "    seed = 42\n",
    "    X_train, X_test, y_train, y_test = train_test_split(X, y, test_size=test_size, random_state=seed)\n",
    "    classifiers = dict() \n",
    "    classifiers['GaussianNB'] = GaussianNB()\n",
    "    classifiers['DecisionTreeClassifier'] = DecisionTreeClassifier(random_state=seed)\n",
    "    classifiers['SVM'] = SVC()\n",
    "    classifiers['LinearSVM'] = LinearSVC()\n",
    "    classifiers['MLPClassifier'] = MLPClassifier()\n",
    "    classifiers['Perceptron'] = Perceptron()\n",
    "    classifiers['KNeighbors Classifier'] = KNeighborsClassifier()\n",
    "    classifiers['RandomForestClassifier'] = RandomForestClassifier(n_estimators=300)\n",
    "\n",
    "    # Iterate over dictionary\n",
    "    for clf_name, clf in classifiers.items(): #clf_name is the key, clf is the value\n",
    "        scores = cross_val_score(clf, X, y, cv=3)\n",
    "        print(clf_name + ' cross_val_score: ' + str(np.mean(scores)))\n",
    "        \n",
    "        clf.fit(X_train, y_train)\n",
    "        pred = clf.predict(X_test)\n",
    "        score = metrics.accuracy_score(y_test, pred)\n",
    "        print(clf_name + ': ' + str(score))\n",
    "        print(metrics.classification_report(y_test, pred))\n",
    "        "
   ]
  },
  {
   "cell_type": "code",
   "execution_count": null,
   "metadata": {
    "collapsed": false
   },
   "outputs": [],
   "source": [
    "train(X, y)"
   ]
  },
  {
   "cell_type": "code",
   "execution_count": null,
   "metadata": {
    "collapsed": true
   },
   "outputs": [],
   "source": []
  }
 ],
 "metadata": {
  "kernelspec": {
   "display_name": "Python 2",
   "language": "python",
   "name": "python2"
  },
  "language_info": {
   "codemirror_mode": {
    "name": "ipython",
    "version": 2
   },
   "file_extension": ".py",
   "mimetype": "text/x-python",
   "name": "python",
   "nbconvert_exporter": "python",
   "pygments_lexer": "ipython2",
   "version": "2.7.13"
  }
 },
 "nbformat": 4,
 "nbformat_minor": 2
}
